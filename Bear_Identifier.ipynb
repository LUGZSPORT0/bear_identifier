{
  "nbformat": 4,
  "nbformat_minor": 0,
  "metadata": {
    "colab": {
      "provenance": []
    },
    "kernelspec": {
      "name": "python3",
      "display_name": "Python 3"
    },
    "language_info": {
      "name": "python"
    }
  },
  "cells": [
    {
      "cell_type": "code",
      "source": [
        "from fastai.vision.all import *\n",
        "from fastai.vision.widgets import *"
      ],
      "metadata": {
        "id": "o5ZSO2ZEcWgp"
      },
      "execution_count": 3,
      "outputs": []
    },
    {
      "cell_type": "code",
      "source": [
        "#'/content/gdrive/MyDrive/bears'\n",
        "path = Path()\n"
      ],
      "metadata": {
        "id": "fj_j6Ijycncz"
      },
      "execution_count": null,
      "outputs": []
    },
    {
      "cell_type": "code",
      "source": [
        "learn_inf = load_learner(path/'export.pkl', cpu=True)\n",
        "btn_upload = widgets.FileUpload()\n",
        "out_pl = widgets.Output()\n",
        "lbl_pred = widgets.Label()\n"
      ],
      "metadata": {
        "id": "z2TvV_R2daxI"
      },
      "execution_count": null,
      "outputs": []
    },
    {
      "cell_type": "code",
      "source": [
        "def on_data_change(change):\n",
        "    lbl_pred.value = ''\n",
        "    img = PILImage.create(btn_upload.data[-1])\n",
        "    out_pl.clear_output()\n",
        "    with out_pl: display(img.to_thumb(128,128))\n",
        "    pred,pred_idx,probs = learn_inf.predict(img)\n",
        "    lbl_pred.value = f'Prediction: {pred}; Probability: {probs[pred_idx]:.04f}'"
      ],
      "metadata": {
        "id": "qc-ipCUFulJA"
      },
      "execution_count": 6,
      "outputs": []
    },
    {
      "cell_type": "code",
      "source": [
        "btn_upload.observe(on_data_change, names=['data'])"
      ],
      "metadata": {
        "id": "CmRtn1vVu75H"
      },
      "execution_count": null,
      "outputs": []
    },
    {
      "cell_type": "code",
      "source": [
        "display(VBox([widgets.Label('Select your bear!'), btn_upload, out_pl, lbl_pred]))"
      ],
      "metadata": {
        "colab": {
          "base_uri": "https://localhost:8080/",
          "height": 113,
          "referenced_widgets": [
            "c814bd79bdd74d87a3c56c9c9468a3f2",
            "3f45996b3f53404ea2a15d7c7f1b9496",
            "050993c97ac44a21b49102a0a7f9423a",
            "5f41f1aa033f4471a5f47d85f6edbc04",
            "c5a0d069f902466e8d0289287d78e22d",
            "c79f8cfc08fd4858b9dd6c6eb23372b2",
            "f28285311bee4553b0dc0a46a60a027a",
            "afba5f1a859849b7b94151bd816db134",
            "c99b26694dbb49c598a7b5e7ef2f025b",
            "121e9815ac3544689472c3127c615fd6",
            "8cfd6728a1c844a9a9c71f92850fa9af",
            "ce53263bdd2b450b95b6d26759eb8a13",
            "3156b1385c0a46c380f20981b027a55b"
          ]
        },
        "id": "43YWChVxu-XQ",
        "outputId": "9d4287c7-1803-4aa2-8d1d-087bcfdac94f"
      },
      "execution_count": null,
      "outputs": [
        {
          "output_type": "display_data",
          "data": {
            "text/plain": [
              "VBox(children=(Label(value='Select your bear!'), FileUpload(value={}, description='Upload'), Output(), Label(v…"
            ],
            "application/vnd.jupyter.widget-view+json": {
              "version_major": 2,
              "version_minor": 0,
              "model_id": "c814bd79bdd74d87a3c56c9c9468a3f2"
            }
          },
          "metadata": {}
        }
      ]
    }
  ]
}