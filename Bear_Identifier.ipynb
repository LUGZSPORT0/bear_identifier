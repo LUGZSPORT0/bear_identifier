{
  "nbformat": 4,
  "nbformat_minor": 0,
  "metadata": {
    "colab": {
      "provenance": []
    },
    "kernelspec": {
      "name": "python3",
      "display_name": "Python 3"
    },
    "language_info": {
      "name": "python"
    },
    "widgets": {
      "application/vnd.jupyter.widget-state+json": {
        "4b24a79e56ce42b2be767d8950ca142a": {
          "model_module": "@jupyter-widgets/controls",
          "model_name": "VBoxModel",
          "model_module_version": "1.5.0",
          "state": {
            "_dom_classes": [],
            "_model_module": "@jupyter-widgets/controls",
            "_model_module_version": "1.5.0",
            "_model_name": "VBoxModel",
            "_view_count": null,
            "_view_module": "@jupyter-widgets/controls",
            "_view_module_version": "1.5.0",
            "_view_name": "VBoxView",
            "box_style": "",
            "children": [
              "IPY_MODEL_37e7c7e8a72a4b97b53bfa00cc99b319",
              "IPY_MODEL_5bccb46ecb5148b5a636cd36f4493030",
              "IPY_MODEL_6ea7332dcada4cd5b2d0c6d91e32dc50",
              "IPY_MODEL_76907f8f4a234d4db1b6082b6021357b"
            ],
            "layout": "IPY_MODEL_9f5e8da65f0d4d508f5c6fa89639c03c"
          }
        },
        "37e7c7e8a72a4b97b53bfa00cc99b319": {
          "model_module": "@jupyter-widgets/controls",
          "model_name": "LabelModel",
          "model_module_version": "1.5.0",
          "state": {
            "_dom_classes": [],
            "_model_module": "@jupyter-widgets/controls",
            "_model_module_version": "1.5.0",
            "_model_name": "LabelModel",
            "_view_count": null,
            "_view_module": "@jupyter-widgets/controls",
            "_view_module_version": "1.5.0",
            "_view_name": "LabelView",
            "description": "",
            "description_tooltip": null,
            "layout": "IPY_MODEL_38af2ff406a84709a523b871ab1410dc",
            "placeholder": "​",
            "style": "IPY_MODEL_79ef2309b2bf44c3b7eabd4cce0c3c37",
            "value": "Select your bear!"
          }
        },
        "5bccb46ecb5148b5a636cd36f4493030": {
          "model_module": "@jupyter-widgets/controls",
          "model_name": "FileUploadModel",
          "model_module_version": "1.5.0",
          "state": {
            "_counter": 1,
            "_dom_classes": [],
            "_model_module": "@jupyter-widgets/controls",
            "_model_module_version": "1.5.0",
            "_model_name": "FileUploadModel",
            "_view_count": null,
            "_view_module": "@jupyter-widgets/controls",
            "_view_module_version": "1.5.0",
            "_view_name": "FileUploadView",
            "accept": "",
            "button_style": "",
            "data": [
              null
            ],
            "description": "Upload",
            "description_tooltip": null,
            "disabled": false,
            "error": "",
            "icon": "upload",
            "layout": "IPY_MODEL_5d60f097ac9d4917b73565ca98cf59fc",
            "metadata": [
              {
                "name": "grizzly-bear-facts.jpg",
                "type": "image/jpeg",
                "size": 38168,
                "lastModified": 1671232455277
              }
            ],
            "multiple": false,
            "style": "IPY_MODEL_9b07dfa5a0e64d54854ba408ad3ac5cc"
          }
        },
        "6ea7332dcada4cd5b2d0c6d91e32dc50": {
          "model_module": "@jupyter-widgets/output",
          "model_name": "OutputModel",
          "model_module_version": "1.0.0",
          "state": {
            "_dom_classes": [],
            "_model_module": "@jupyter-widgets/output",
            "_model_module_version": "1.0.0",
            "_model_name": "OutputModel",
            "_view_count": null,
            "_view_module": "@jupyter-widgets/output",
            "_view_module_version": "1.0.0",
            "_view_name": "OutputView",
            "layout": "IPY_MODEL_c69486a1567844cdada8d71b71f05f34",
            "msg_id": "",
            "outputs": [
              {
                "output_type": "display_data",
                "data": {
                  "text/plain": "<PIL.Image.Image image mode=RGB size=128x85>",
                  "image/png": "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\n"
                },
                "metadata": {}
              }
            ]
          }
        },
        "76907f8f4a234d4db1b6082b6021357b": {
          "model_module": "@jupyter-widgets/controls",
          "model_name": "LabelModel",
          "model_module_version": "1.5.0",
          "state": {
            "_dom_classes": [],
            "_model_module": "@jupyter-widgets/controls",
            "_model_module_version": "1.5.0",
            "_model_name": "LabelModel",
            "_view_count": null,
            "_view_module": "@jupyter-widgets/controls",
            "_view_module_version": "1.5.0",
            "_view_name": "LabelView",
            "description": "",
            "description_tooltip": null,
            "layout": "IPY_MODEL_dded4a7e14434f4fbe93183d5a3326e0",
            "placeholder": "​",
            "style": "IPY_MODEL_297fdd826fca4bcd9e7c8a7ddd107c3a",
            "value": "Prediction: grizzly; Probability: 1.0000"
          }
        },
        "9f5e8da65f0d4d508f5c6fa89639c03c": {
          "model_module": "@jupyter-widgets/base",
          "model_name": "LayoutModel",
          "model_module_version": "1.2.0",
          "state": {
            "_model_module": "@jupyter-widgets/base",
            "_model_module_version": "1.2.0",
            "_model_name": "LayoutModel",
            "_view_count": null,
            "_view_module": "@jupyter-widgets/base",
            "_view_module_version": "1.2.0",
            "_view_name": "LayoutView",
            "align_content": null,
            "align_items": null,
            "align_self": null,
            "border": null,
            "bottom": null,
            "display": null,
            "flex": null,
            "flex_flow": null,
            "grid_area": null,
            "grid_auto_columns": null,
            "grid_auto_flow": null,
            "grid_auto_rows": null,
            "grid_column": null,
            "grid_gap": null,
            "grid_row": null,
            "grid_template_areas": null,
            "grid_template_columns": null,
            "grid_template_rows": null,
            "height": null,
            "justify_content": null,
            "justify_items": null,
            "left": null,
            "margin": null,
            "max_height": null,
            "max_width": null,
            "min_height": null,
            "min_width": null,
            "object_fit": null,
            "object_position": null,
            "order": null,
            "overflow": null,
            "overflow_x": null,
            "overflow_y": null,
            "padding": null,
            "right": null,
            "top": null,
            "visibility": null,
            "width": null
          }
        },
        "38af2ff406a84709a523b871ab1410dc": {
          "model_module": "@jupyter-widgets/base",
          "model_name": "LayoutModel",
          "model_module_version": "1.2.0",
          "state": {
            "_model_module": "@jupyter-widgets/base",
            "_model_module_version": "1.2.0",
            "_model_name": "LayoutModel",
            "_view_count": null,
            "_view_module": "@jupyter-widgets/base",
            "_view_module_version": "1.2.0",
            "_view_name": "LayoutView",
            "align_content": null,
            "align_items": null,
            "align_self": null,
            "border": null,
            "bottom": null,
            "display": null,
            "flex": null,
            "flex_flow": null,
            "grid_area": null,
            "grid_auto_columns": null,
            "grid_auto_flow": null,
            "grid_auto_rows": null,
            "grid_column": null,
            "grid_gap": null,
            "grid_row": null,
            "grid_template_areas": null,
            "grid_template_columns": null,
            "grid_template_rows": null,
            "height": null,
            "justify_content": null,
            "justify_items": null,
            "left": null,
            "margin": null,
            "max_height": null,
            "max_width": null,
            "min_height": null,
            "min_width": null,
            "object_fit": null,
            "object_position": null,
            "order": null,
            "overflow": null,
            "overflow_x": null,
            "overflow_y": null,
            "padding": null,
            "right": null,
            "top": null,
            "visibility": null,
            "width": null
          }
        },
        "79ef2309b2bf44c3b7eabd4cce0c3c37": {
          "model_module": "@jupyter-widgets/controls",
          "model_name": "DescriptionStyleModel",
          "model_module_version": "1.5.0",
          "state": {
            "_model_module": "@jupyter-widgets/controls",
            "_model_module_version": "1.5.0",
            "_model_name": "DescriptionStyleModel",
            "_view_count": null,
            "_view_module": "@jupyter-widgets/base",
            "_view_module_version": "1.2.0",
            "_view_name": "StyleView",
            "description_width": ""
          }
        },
        "5d60f097ac9d4917b73565ca98cf59fc": {
          "model_module": "@jupyter-widgets/base",
          "model_name": "LayoutModel",
          "model_module_version": "1.2.0",
          "state": {
            "_model_module": "@jupyter-widgets/base",
            "_model_module_version": "1.2.0",
            "_model_name": "LayoutModel",
            "_view_count": null,
            "_view_module": "@jupyter-widgets/base",
            "_view_module_version": "1.2.0",
            "_view_name": "LayoutView",
            "align_content": null,
            "align_items": null,
            "align_self": null,
            "border": null,
            "bottom": null,
            "display": null,
            "flex": null,
            "flex_flow": null,
            "grid_area": null,
            "grid_auto_columns": null,
            "grid_auto_flow": null,
            "grid_auto_rows": null,
            "grid_column": null,
            "grid_gap": null,
            "grid_row": null,
            "grid_template_areas": null,
            "grid_template_columns": null,
            "grid_template_rows": null,
            "height": null,
            "justify_content": null,
            "justify_items": null,
            "left": null,
            "margin": null,
            "max_height": null,
            "max_width": null,
            "min_height": null,
            "min_width": null,
            "object_fit": null,
            "object_position": null,
            "order": null,
            "overflow": null,
            "overflow_x": null,
            "overflow_y": null,
            "padding": null,
            "right": null,
            "top": null,
            "visibility": null,
            "width": null
          }
        },
        "9b07dfa5a0e64d54854ba408ad3ac5cc": {
          "model_module": "@jupyter-widgets/controls",
          "model_name": "ButtonStyleModel",
          "model_module_version": "1.5.0",
          "state": {
            "_model_module": "@jupyter-widgets/controls",
            "_model_module_version": "1.5.0",
            "_model_name": "ButtonStyleModel",
            "_view_count": null,
            "_view_module": "@jupyter-widgets/base",
            "_view_module_version": "1.2.0",
            "_view_name": "StyleView",
            "button_color": null,
            "font_weight": ""
          }
        },
        "dded4a7e14434f4fbe93183d5a3326e0": {
          "model_module": "@jupyter-widgets/base",
          "model_name": "LayoutModel",
          "model_module_version": "1.2.0",
          "state": {
            "_model_module": "@jupyter-widgets/base",
            "_model_module_version": "1.2.0",
            "_model_name": "LayoutModel",
            "_view_count": null,
            "_view_module": "@jupyter-widgets/base",
            "_view_module_version": "1.2.0",
            "_view_name": "LayoutView",
            "align_content": null,
            "align_items": null,
            "align_self": null,
            "border": null,
            "bottom": null,
            "display": null,
            "flex": null,
            "flex_flow": null,
            "grid_area": null,
            "grid_auto_columns": null,
            "grid_auto_flow": null,
            "grid_auto_rows": null,
            "grid_column": null,
            "grid_gap": null,
            "grid_row": null,
            "grid_template_areas": null,
            "grid_template_columns": null,
            "grid_template_rows": null,
            "height": null,
            "justify_content": null,
            "justify_items": null,
            "left": null,
            "margin": null,
            "max_height": null,
            "max_width": null,
            "min_height": null,
            "min_width": null,
            "object_fit": null,
            "object_position": null,
            "order": null,
            "overflow": null,
            "overflow_x": null,
            "overflow_y": null,
            "padding": null,
            "right": null,
            "top": null,
            "visibility": null,
            "width": null
          }
        },
        "297fdd826fca4bcd9e7c8a7ddd107c3a": {
          "model_module": "@jupyter-widgets/controls",
          "model_name": "DescriptionStyleModel",
          "model_module_version": "1.5.0",
          "state": {
            "_model_module": "@jupyter-widgets/controls",
            "_model_module_version": "1.5.0",
            "_model_name": "DescriptionStyleModel",
            "_view_count": null,
            "_view_module": "@jupyter-widgets/base",
            "_view_module_version": "1.2.0",
            "_view_name": "StyleView",
            "description_width": ""
          }
        },
        "c69486a1567844cdada8d71b71f05f34": {
          "model_module": "@jupyter-widgets/base",
          "model_name": "LayoutModel",
          "model_module_version": "1.2.0",
          "state": {
            "_model_module": "@jupyter-widgets/base",
            "_model_module_version": "1.2.0",
            "_model_name": "LayoutModel",
            "_view_count": null,
            "_view_module": "@jupyter-widgets/base",
            "_view_module_version": "1.2.0",
            "_view_name": "LayoutView",
            "align_content": null,
            "align_items": null,
            "align_self": null,
            "border": null,
            "bottom": null,
            "display": null,
            "flex": null,
            "flex_flow": null,
            "grid_area": null,
            "grid_auto_columns": null,
            "grid_auto_flow": null,
            "grid_auto_rows": null,
            "grid_column": null,
            "grid_gap": null,
            "grid_row": null,
            "grid_template_areas": null,
            "grid_template_columns": null,
            "grid_template_rows": null,
            "height": null,
            "justify_content": null,
            "justify_items": null,
            "left": null,
            "margin": null,
            "max_height": null,
            "max_width": null,
            "min_height": null,
            "min_width": null,
            "object_fit": null,
            "object_position": null,
            "order": null,
            "overflow": null,
            "overflow_x": null,
            "overflow_y": null,
            "padding": null,
            "right": null,
            "top": null,
            "visibility": null,
            "width": null
          }
        }
      }
    }
  },
  "cells": [
    {
      "cell_type": "code",
      "source": [
        "from fastai.vision.all import *\n",
        "from fastai.vision.widgets import *"
      ],
      "metadata": {
        "id": "o5ZSO2ZEcWgp"
      },
      "execution_count": 3,
      "outputs": []
    },
    {
      "cell_type": "code",
      "source": [
        "#'/content/gdrive/MyDrive/bears'\n",
        "path = Path()\n"
      ],
      "metadata": {
        "id": "fj_j6Ijycncz"
      },
      "execution_count": null,
      "outputs": []
    },
    {
      "cell_type": "code",
      "source": [
        "learn_inf = load_learner(path/'export.pkl', cpu=True)\n",
        "btn_upload = widgets.FileUpload()\n",
        "out_pl = widgets.Output()\n",
        "lbl_pred = widgets.Label()\n"
      ],
      "metadata": {
        "id": "z2TvV_R2daxI"
      },
      "execution_count": 6,
      "outputs": []
    },
    {
      "cell_type": "code",
      "source": [
        "def on_data_change(change):\n",
        "    lbl_pred.value = ''\n",
        "    img = PILImage.create(btn_upload.data[-1])\n",
        "    out_pl.clear_output()\n",
        "    with out_pl: display(img.to_thumb(128,128))\n",
        "    pred,pred_idx,probs = learn_inf.predict(img)\n",
        "    lbl_pred.value = f'Prediction: {pred}; Probability: {probs[pred_idx]:.04f}'\n",
        "# def on_click_classify(change):\n",
        "#     img = PILImage.create(btn_upload.data[-1])\n",
        "#     out_pl.clear_output()\n",
        "#     with out_pl: display(img.to_thumb(128,128))\n",
        "#     pred,pred_idx,probs = learn_inf.predict(img)\n",
        "#     lbl_pred.value = f'Prediction: {pred}; Probability: {probs[pred_idx]:.04f}'\n",
        "\n",
        "# btn_run.on_click(on_click_classify)"
      ],
      "metadata": {
        "id": "qc-ipCUFulJA"
      },
      "execution_count": 7,
      "outputs": []
    },
    {
      "cell_type": "code",
      "source": [
        "btn_upload.observe(on_data_change, names=['data'])"
      ],
      "metadata": {
        "id": "CmRtn1vVu75H"
      },
      "execution_count": 8,
      "outputs": []
    },
    {
      "cell_type": "code",
      "source": [
        "display(VBox([widgets.Label('Select your bear!'), btn_upload, out_pl, lbl_pred.value]))"
      ],
      "metadata": {
        "colab": {
          "base_uri": "https://localhost:8080/",
          "height": 230,
          "referenced_widgets": [
            "4b24a79e56ce42b2be767d8950ca142a",
            "37e7c7e8a72a4b97b53bfa00cc99b319",
            "5bccb46ecb5148b5a636cd36f4493030",
            "6ea7332dcada4cd5b2d0c6d91e32dc50",
            "76907f8f4a234d4db1b6082b6021357b",
            "9f5e8da65f0d4d508f5c6fa89639c03c",
            "38af2ff406a84709a523b871ab1410dc",
            "79ef2309b2bf44c3b7eabd4cce0c3c37",
            "5d60f097ac9d4917b73565ca98cf59fc",
            "9b07dfa5a0e64d54854ba408ad3ac5cc",
            "dded4a7e14434f4fbe93183d5a3326e0",
            "297fdd826fca4bcd9e7c8a7ddd107c3a",
            "c69486a1567844cdada8d71b71f05f34"
          ]
        },
        "id": "43YWChVxu-XQ",
        "outputId": "6d6a8699-ce8e-46e7-b936-df2af9ad92db"
      },
      "execution_count": 13,
      "outputs": [
        {
          "output_type": "display_data",
          "data": {
            "text/plain": [
              "VBox(children=(Label(value='Select your bear!'), FileUpload(value={'grizzly-bear-facts.jpg': {'metadata': {'na…"
            ],
            "application/vnd.jupyter.widget-view+json": {
              "version_major": 2,
              "version_minor": 0,
              "model_id": "4b24a79e56ce42b2be767d8950ca142a"
            }
          },
          "metadata": {}
        },
        {
          "output_type": "display_data",
          "data": {
            "text/plain": [
              "Label(value='Prediction: grizzly; Probability: 1.0000')"
            ],
            "application/vnd.jupyter.widget-view+json": {
              "version_major": 2,
              "version_minor": 0,
              "model_id": "76907f8f4a234d4db1b6082b6021357b"
            }
          },
          "metadata": {}
        }
      ]
    }
  ]
}